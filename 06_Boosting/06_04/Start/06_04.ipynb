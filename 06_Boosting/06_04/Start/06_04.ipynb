{
 "cells": [
  {
   "cell_type": "markdown",
   "metadata": {},
   "source": [
    "## Boosting: Fit and evaluate a model\n",
    "\n",
    "Using the Titanic dataset from [this](https://www.kaggle.com/c/titanic/overview) Kaggle competition.\n",
    "\n",
    "In this section, we will fit and evaluate a simple Gradient Boosting model."
   ]
  },
  {
   "cell_type": "markdown",
   "metadata": {},
   "source": [
    "### Read in Data"
   ]
  },
  {
   "cell_type": "code",
   "execution_count": 4,
   "metadata": {
    "ExecuteTime": {
     "end_time": "2021-07-05T18:28:37.849304Z",
     "start_time": "2021-07-05T18:28:37.818859Z"
    }
   },
   "outputs": [],
   "source": [
    "import joblib\n",
    "import pandas as pd\n",
    "from sklearn.ensemble import GradientBoostingClassifier\n",
    "from sklearn.model_selection import GridSearchCV\n",
    "import warnings\n",
    "warnings.filterwarnings('ignore', category=FutureWarning)\n",
    "warnings.filterwarnings('ignore', category=DeprecationWarning)\n",
    "\n",
    "tr_features = pd.read_csv('../../../train_features.csv')\n",
    "# tr_labels = pd.read_csv('../../../train_labels.csv', header=None)\n",
    "tr_labels = pd.read_csv('../../../train_labels.csv')"
   ]
  },
  {
   "cell_type": "markdown",
   "metadata": {},
   "source": [
    "### Hyperparameter tuning\n",
    "\n",
    "![GB](../../img/gb.png)"
   ]
  },
  {
   "cell_type": "code",
   "execution_count": 5,
   "metadata": {
    "ExecuteTime": {
     "end_time": "2021-07-05T18:28:38.423508Z",
     "start_time": "2021-07-05T18:28:38.401011Z"
    }
   },
   "outputs": [],
   "source": [
    "def print_results(results):\n",
    "    print('BEST PARAMS: {}\\n'.format(results.best_params_))\n",
    "\n",
    "    means = results.cv_results_['mean_test_score']\n",
    "    stds = results.cv_results_['std_test_score']\n",
    "    for mean, std, params in zip(means, stds, results.cv_results_['params']):\n",
    "        print('{} (+/-{}) for {}'.format(round(mean, 3), round(std * 2, 3), params))"
   ]
  },
  {
   "cell_type": "code",
   "execution_count": 6,
   "metadata": {
    "ExecuteTime": {
     "end_time": "2021-07-05T18:33:59.105733Z",
     "start_time": "2021-07-05T18:28:39.356868Z"
    }
   },
   "outputs": [
    {
     "name": "stdout",
     "output_type": "stream",
     "text": [
      "BEST PARAMS: {'learning_rate': 0.01, 'max_depth': 3, 'n_estimators': 500}\n",
      "\n",
      "0.624 (+/-0.007) for {'learning_rate': 0.01, 'max_depth': 1, 'n_estimators': 5}\n",
      "0.796 (+/-0.115) for {'learning_rate': 0.01, 'max_depth': 1, 'n_estimators': 50}\n",
      "0.796 (+/-0.115) for {'learning_rate': 0.01, 'max_depth': 1, 'n_estimators': 250}\n",
      "0.811 (+/-0.117) for {'learning_rate': 0.01, 'max_depth': 1, 'n_estimators': 500}\n",
      "0.624 (+/-0.007) for {'learning_rate': 0.01, 'max_depth': 3, 'n_estimators': 5}\n",
      "0.811 (+/-0.069) for {'learning_rate': 0.01, 'max_depth': 3, 'n_estimators': 50}\n",
      "0.83 (+/-0.074) for {'learning_rate': 0.01, 'max_depth': 3, 'n_estimators': 250}\n",
      "0.839 (+/-0.084) for {'learning_rate': 0.01, 'max_depth': 3, 'n_estimators': 500}\n",
      "0.624 (+/-0.007) for {'learning_rate': 0.01, 'max_depth': 5, 'n_estimators': 5}\n",
      "0.822 (+/-0.052) for {'learning_rate': 0.01, 'max_depth': 5, 'n_estimators': 50}\n",
      "0.818 (+/-0.043) for {'learning_rate': 0.01, 'max_depth': 5, 'n_estimators': 250}\n",
      "0.822 (+/-0.037) for {'learning_rate': 0.01, 'max_depth': 5, 'n_estimators': 500}\n",
      "0.624 (+/-0.007) for {'learning_rate': 0.01, 'max_depth': 7, 'n_estimators': 5}\n",
      "0.818 (+/-0.053) for {'learning_rate': 0.01, 'max_depth': 7, 'n_estimators': 50}\n",
      "0.818 (+/-0.04) for {'learning_rate': 0.01, 'max_depth': 7, 'n_estimators': 250}\n",
      "0.801 (+/-0.025) for {'learning_rate': 0.01, 'max_depth': 7, 'n_estimators': 500}\n",
      "0.624 (+/-0.007) for {'learning_rate': 0.01, 'max_depth': 9, 'n_estimators': 5}\n",
      "0.803 (+/-0.059) for {'learning_rate': 0.01, 'max_depth': 9, 'n_estimators': 50}\n",
      "0.8 (+/-0.045) for {'learning_rate': 0.01, 'max_depth': 9, 'n_estimators': 250}\n",
      "0.79 (+/-0.048) for {'learning_rate': 0.01, 'max_depth': 9, 'n_estimators': 500}\n",
      "0.796 (+/-0.115) for {'learning_rate': 0.1, 'max_depth': 1, 'n_estimators': 5}\n",
      "0.815 (+/-0.119) for {'learning_rate': 0.1, 'max_depth': 1, 'n_estimators': 50}\n",
      "0.818 (+/-0.111) for {'learning_rate': 0.1, 'max_depth': 1, 'n_estimators': 250}\n",
      "0.828 (+/-0.092) for {'learning_rate': 0.1, 'max_depth': 1, 'n_estimators': 500}\n",
      "0.813 (+/-0.071) for {'learning_rate': 0.1, 'max_depth': 3, 'n_estimators': 5}\n",
      "0.839 (+/-0.076) for {'learning_rate': 0.1, 'max_depth': 3, 'n_estimators': 50}\n",
      "0.826 (+/-0.041) for {'learning_rate': 0.1, 'max_depth': 3, 'n_estimators': 250}\n",
      "0.809 (+/-0.04) for {'learning_rate': 0.1, 'max_depth': 3, 'n_estimators': 500}\n",
      "0.815 (+/-0.044) for {'learning_rate': 0.1, 'max_depth': 5, 'n_estimators': 5}\n",
      "0.826 (+/-0.027) for {'learning_rate': 0.1, 'max_depth': 5, 'n_estimators': 50}\n",
      "0.803 (+/-0.042) for {'learning_rate': 0.1, 'max_depth': 5, 'n_estimators': 250}\n",
      "0.796 (+/-0.039) for {'learning_rate': 0.1, 'max_depth': 5, 'n_estimators': 500}\n",
      "0.82 (+/-0.051) for {'learning_rate': 0.1, 'max_depth': 7, 'n_estimators': 5}\n",
      "0.796 (+/-0.025) for {'learning_rate': 0.1, 'max_depth': 7, 'n_estimators': 50}\n",
      "0.79 (+/-0.024) for {'learning_rate': 0.1, 'max_depth': 7, 'n_estimators': 250}\n",
      "0.8 (+/-0.042) for {'learning_rate': 0.1, 'max_depth': 7, 'n_estimators': 500}\n",
      "0.8 (+/-0.048) for {'learning_rate': 0.1, 'max_depth': 9, 'n_estimators': 5}\n",
      "0.785 (+/-0.024) for {'learning_rate': 0.1, 'max_depth': 9, 'n_estimators': 50}\n",
      "0.794 (+/-0.056) for {'learning_rate': 0.1, 'max_depth': 9, 'n_estimators': 250}\n",
      "0.792 (+/-0.046) for {'learning_rate': 0.1, 'max_depth': 9, 'n_estimators': 500}\n",
      "0.818 (+/-0.099) for {'learning_rate': 1, 'max_depth': 1, 'n_estimators': 5}\n",
      "0.832 (+/-0.081) for {'learning_rate': 1, 'max_depth': 1, 'n_estimators': 50}\n",
      "0.826 (+/-0.077) for {'learning_rate': 1, 'max_depth': 1, 'n_estimators': 250}\n",
      "0.822 (+/-0.081) for {'learning_rate': 1, 'max_depth': 1, 'n_estimators': 500}\n",
      "0.824 (+/-0.057) for {'learning_rate': 1, 'max_depth': 3, 'n_estimators': 5}\n",
      "0.801 (+/-0.023) for {'learning_rate': 1, 'max_depth': 3, 'n_estimators': 50}\n",
      "0.788 (+/-0.043) for {'learning_rate': 1, 'max_depth': 3, 'n_estimators': 250}\n",
      "0.794 (+/-0.024) for {'learning_rate': 1, 'max_depth': 3, 'n_estimators': 500}\n",
      "0.796 (+/-0.036) for {'learning_rate': 1, 'max_depth': 5, 'n_estimators': 5}\n",
      "0.783 (+/-0.014) for {'learning_rate': 1, 'max_depth': 5, 'n_estimators': 50}\n",
      "0.79 (+/-0.025) for {'learning_rate': 1, 'max_depth': 5, 'n_estimators': 250}\n",
      "0.781 (+/-0.025) for {'learning_rate': 1, 'max_depth': 5, 'n_estimators': 500}\n",
      "0.792 (+/-0.039) for {'learning_rate': 1, 'max_depth': 7, 'n_estimators': 5}\n",
      "0.807 (+/-0.038) for {'learning_rate': 1, 'max_depth': 7, 'n_estimators': 50}\n",
      "0.786 (+/-0.043) for {'learning_rate': 1, 'max_depth': 7, 'n_estimators': 250}\n",
      "0.8 (+/-0.06) for {'learning_rate': 1, 'max_depth': 7, 'n_estimators': 500}\n",
      "0.787 (+/-0.039) for {'learning_rate': 1, 'max_depth': 9, 'n_estimators': 5}\n",
      "0.786 (+/-0.05) for {'learning_rate': 1, 'max_depth': 9, 'n_estimators': 50}\n",
      "0.792 (+/-0.044) for {'learning_rate': 1, 'max_depth': 9, 'n_estimators': 250}\n",
      "0.79 (+/-0.037) for {'learning_rate': 1, 'max_depth': 9, 'n_estimators': 500}\n",
      "0.204 (+/-0.115) for {'learning_rate': 10, 'max_depth': 1, 'n_estimators': 5}\n",
      "0.204 (+/-0.115) for {'learning_rate': 10, 'max_depth': 1, 'n_estimators': 50}\n",
      "0.204 (+/-0.115) for {'learning_rate': 10, 'max_depth': 1, 'n_estimators': 250}\n",
      "0.204 (+/-0.115) for {'learning_rate': 10, 'max_depth': 1, 'n_estimators': 500}\n",
      "0.307 (+/-0.195) for {'learning_rate': 10, 'max_depth': 3, 'n_estimators': 5}\n",
      "0.307 (+/-0.195) for {'learning_rate': 10, 'max_depth': 3, 'n_estimators': 50}\n",
      "0.307 (+/-0.195) for {'learning_rate': 10, 'max_depth': 3, 'n_estimators': 250}\n",
      "0.307 (+/-0.195) for {'learning_rate': 10, 'max_depth': 3, 'n_estimators': 500}\n",
      "0.417 (+/-0.265) for {'learning_rate': 10, 'max_depth': 5, 'n_estimators': 5}\n",
      "0.414 (+/-0.258) for {'learning_rate': 10, 'max_depth': 5, 'n_estimators': 50}\n",
      "0.415 (+/-0.27) for {'learning_rate': 10, 'max_depth': 5, 'n_estimators': 250}\n",
      "0.438 (+/-0.251) for {'learning_rate': 10, 'max_depth': 5, 'n_estimators': 500}\n",
      "0.558 (+/-0.149) for {'learning_rate': 10, 'max_depth': 7, 'n_estimators': 5}\n",
      "0.594 (+/-0.193) for {'learning_rate': 10, 'max_depth': 7, 'n_estimators': 50}\n",
      "0.603 (+/-0.184) for {'learning_rate': 10, 'max_depth': 7, 'n_estimators': 250}\n",
      "0.571 (+/-0.158) for {'learning_rate': 10, 'max_depth': 7, 'n_estimators': 500}\n",
      "0.687 (+/-0.104) for {'learning_rate': 10, 'max_depth': 9, 'n_estimators': 5}\n",
      "0.691 (+/-0.093) for {'learning_rate': 10, 'max_depth': 9, 'n_estimators': 50}\n",
      "0.708 (+/-0.1) for {'learning_rate': 10, 'max_depth': 9, 'n_estimators': 250}\n",
      "0.693 (+/-0.117) for {'learning_rate': 10, 'max_depth': 9, 'n_estimators': 500}\n",
      "0.376 (+/-0.007) for {'learning_rate': 100, 'max_depth': 1, 'n_estimators': 5}\n",
      "0.376 (+/-0.007) for {'learning_rate': 100, 'max_depth': 1, 'n_estimators': 50}\n",
      "0.376 (+/-0.007) for {'learning_rate': 100, 'max_depth': 1, 'n_estimators': 250}\n",
      "0.376 (+/-0.007) for {'learning_rate': 100, 'max_depth': 1, 'n_estimators': 500}\n",
      "0.29 (+/-0.102) for {'learning_rate': 100, 'max_depth': 3, 'n_estimators': 5}\n",
      "0.29 (+/-0.102) for {'learning_rate': 100, 'max_depth': 3, 'n_estimators': 50}\n",
      "0.29 (+/-0.102) for {'learning_rate': 100, 'max_depth': 3, 'n_estimators': 250}\n",
      "0.29 (+/-0.102) for {'learning_rate': 100, 'max_depth': 3, 'n_estimators': 500}\n",
      "0.361 (+/-0.193) for {'learning_rate': 100, 'max_depth': 5, 'n_estimators': 5}\n",
      "0.359 (+/-0.19) for {'learning_rate': 100, 'max_depth': 5, 'n_estimators': 50}\n",
      "0.356 (+/-0.189) for {'learning_rate': 100, 'max_depth': 5, 'n_estimators': 250}\n",
      "0.357 (+/-0.192) for {'learning_rate': 100, 'max_depth': 5, 'n_estimators': 500}\n",
      "0.592 (+/-0.077) for {'learning_rate': 100, 'max_depth': 7, 'n_estimators': 5}\n",
      "0.59 (+/-0.095) for {'learning_rate': 100, 'max_depth': 7, 'n_estimators': 50}\n",
      "0.58 (+/-0.095) for {'learning_rate': 100, 'max_depth': 7, 'n_estimators': 250}\n",
      "0.569 (+/-0.092) for {'learning_rate': 100, 'max_depth': 7, 'n_estimators': 500}\n",
      "0.68 (+/-0.08) for {'learning_rate': 100, 'max_depth': 9, 'n_estimators': 5}\n",
      "0.659 (+/-0.111) for {'learning_rate': 100, 'max_depth': 9, 'n_estimators': 50}\n",
      "0.691 (+/-0.085) for {'learning_rate': 100, 'max_depth': 9, 'n_estimators': 250}\n",
      "0.669 (+/-0.064) for {'learning_rate': 100, 'max_depth': 9, 'n_estimators': 500}\n"
     ]
    }
   ],
   "source": [
    "gb = GradientBoostingClassifier()\n",
    "parameters = {\n",
    "    'n_estimators': [5, 50, 250, 500],\n",
    "    'max_depth': [1, 3, 5, 7, 9],\n",
    "    'learning_rate': [0.01, 0.1, 1, 10, 100]\n",
    "}\n",
    "\n",
    "cv = GridSearchCV(gb, parameters, cv = 5)\n",
    "\n",
    "cv.fit(tr_features, tr_labels.values.ravel())\n",
    "\n",
    "print_results(cv)"
   ]
  },
  {
   "cell_type": "markdown",
   "metadata": {},
   "source": [
    "### Write out pickled model"
   ]
  },
  {
   "cell_type": "code",
   "execution_count": 7,
   "metadata": {
    "ExecuteTime": {
     "end_time": "2021-07-05T18:33:59.255882Z",
     "start_time": "2021-07-05T18:33:59.192865Z"
    }
   },
   "outputs": [
    {
     "data": {
      "text/plain": [
       "['../../../GB_model.pkl']"
      ]
     },
     "execution_count": 7,
     "metadata": {},
     "output_type": "execute_result"
    }
   ],
   "source": [
    "joblib.dump(cv.best_estimator_, '../../../GB_model.pkl')"
   ]
  }
 ],
 "metadata": {
  "kernelspec": {
   "display_name": "Python 3",
   "language": "python",
   "name": "python3"
  },
  "language_info": {
   "codemirror_mode": {
    "name": "ipython",
    "version": 3
   },
   "file_extension": ".py",
   "mimetype": "text/x-python",
   "name": "python",
   "nbconvert_exporter": "python",
   "pygments_lexer": "ipython3",
   "version": "3.8.3"
  },
  "toc": {
   "base_numbering": 1,
   "nav_menu": {},
   "number_sections": true,
   "sideBar": true,
   "skip_h1_title": false,
   "title_cell": "Table of Contents",
   "title_sidebar": "Contents",
   "toc_cell": false,
   "toc_position": {},
   "toc_section_display": true,
   "toc_window_display": false
  },
  "varInspector": {
   "cols": {
    "lenName": 16,
    "lenType": 16,
    "lenVar": 40
   },
   "kernels_config": {
    "python": {
     "delete_cmd_postfix": "",
     "delete_cmd_prefix": "del ",
     "library": "var_list.py",
     "varRefreshCmd": "print(var_dic_list())"
    },
    "r": {
     "delete_cmd_postfix": ") ",
     "delete_cmd_prefix": "rm(",
     "library": "var_list.r",
     "varRefreshCmd": "cat(var_dic_list()) "
    }
   },
   "types_to_exclude": [
    "module",
    "function",
    "builtin_function_or_method",
    "instance",
    "_Feature"
   ],
   "window_display": false
  }
 },
 "nbformat": 4,
 "nbformat_minor": 2
}
