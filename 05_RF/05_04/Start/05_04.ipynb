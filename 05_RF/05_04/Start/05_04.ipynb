{
 "cells": [
  {
   "cell_type": "markdown",
   "metadata": {},
   "source": [
    "## Random Forest: Fit and evaluate a model\n",
    "\n",
    "Using the Titanic dataset from [this](https://www.kaggle.com/c/titanic/overview) Kaggle competition.\n",
    "\n",
    "In this section, we will fit and evaluate a simple Random Forest model."
   ]
  },
  {
   "cell_type": "markdown",
   "metadata": {},
   "source": [
    "### Read in Data"
   ]
  },
  {
   "cell_type": "code",
   "execution_count": 4,
   "metadata": {
    "ExecuteTime": {
     "end_time": "2021-07-05T18:19:14.603022Z",
     "start_time": "2021-07-05T18:19:14.578088Z"
    }
   },
   "outputs": [],
   "source": [
    "import joblib\n",
    "import pandas as pd\n",
    "from sklearn.ensemble import RandomForestClassifier\n",
    "from sklearn.model_selection import GridSearchCV\n",
    "import warnings\n",
    "warnings.filterwarnings('ignore', category=FutureWarning)\n",
    "warnings.filterwarnings('ignore', category=DeprecationWarning)\n",
    "\n",
    "tr_features = pd.read_csv('../../../train_features.csv')\n",
    "# tr_labels = pd.read_csv('../../../train_labels.csv', header=None)\n",
    "tr_labels = pd.read_csv('../../../train_labels.csv')"
   ]
  },
  {
   "cell_type": "markdown",
   "metadata": {},
   "source": [
    "### Hyperparameter tuning\n",
    "\n",
    "![RF](../../img/rf.png)"
   ]
  },
  {
   "cell_type": "code",
   "execution_count": 5,
   "metadata": {
    "ExecuteTime": {
     "end_time": "2021-07-05T18:19:15.284587Z",
     "start_time": "2021-07-05T18:19:15.278289Z"
    }
   },
   "outputs": [],
   "source": [
    "def print_results(results):\n",
    "    print('BEST PARAMS: {}\\n'.format(results.best_params_))\n",
    "\n",
    "    means = results.cv_results_['mean_test_score']\n",
    "    stds = results.cv_results_['std_test_score']\n",
    "    for mean, std, params in zip(means, stds, results.cv_results_['params']):\n",
    "        print('{} (+/-{}) for {}'.format(round(mean, 3), round(std * 2, 3), params))"
   ]
  },
  {
   "cell_type": "code",
   "execution_count": 6,
   "metadata": {
    "ExecuteTime": {
     "end_time": "2021-07-05T18:19:54.630411Z",
     "start_time": "2021-07-05T18:19:15.933222Z"
    }
   },
   "outputs": [
    {
     "name": "stdout",
     "output_type": "stream",
     "text": [
      "BEST PARAMS: {'max_depth': 4, 'n_estimators': 250}\n",
      "\n",
      "0.779 (+/-0.107) for {'max_depth': 2, 'n_estimators': 5}\n",
      "0.802 (+/-0.099) for {'max_depth': 2, 'n_estimators': 50}\n",
      "0.802 (+/-0.088) for {'max_depth': 2, 'n_estimators': 250}\n",
      "0.813 (+/-0.109) for {'max_depth': 4, 'n_estimators': 5}\n",
      "0.818 (+/-0.111) for {'max_depth': 4, 'n_estimators': 50}\n",
      "0.826 (+/-0.104) for {'max_depth': 4, 'n_estimators': 250}\n",
      "0.82 (+/-0.089) for {'max_depth': 8, 'n_estimators': 5}\n",
      "0.82 (+/-0.077) for {'max_depth': 8, 'n_estimators': 50}\n",
      "0.815 (+/-0.071) for {'max_depth': 8, 'n_estimators': 250}\n",
      "0.802 (+/-0.041) for {'max_depth': 16, 'n_estimators': 5}\n",
      "0.805 (+/-0.013) for {'max_depth': 16, 'n_estimators': 50}\n",
      "0.818 (+/-0.03) for {'max_depth': 16, 'n_estimators': 250}\n",
      "0.777 (+/-0.014) for {'max_depth': 32, 'n_estimators': 5}\n",
      "0.803 (+/-0.031) for {'max_depth': 32, 'n_estimators': 50}\n",
      "0.807 (+/-0.022) for {'max_depth': 32, 'n_estimators': 250}\n",
      "0.796 (+/-0.061) for {'max_depth': None, 'n_estimators': 5}\n",
      "0.803 (+/-0.026) for {'max_depth': None, 'n_estimators': 50}\n",
      "0.811 (+/-0.029) for {'max_depth': None, 'n_estimators': 250}\n"
     ]
    }
   ],
   "source": [
    "rf = RandomForestClassifier()\n",
    "parameters = {\n",
    "    'n_estimators': [5, 50, 250],\n",
    "    'max_depth': [2, 4, 8, 16, 32, None]\n",
    "}\n",
    "\n",
    "cv = GridSearchCV(rf, parameters, cv = 5)\n",
    "\n",
    "cv.fit(tr_features, tr_labels.values.ravel())\n",
    "\n",
    "print_results(cv)"
   ]
  },
  {
   "cell_type": "markdown",
   "metadata": {},
   "source": [
    "### Write out pickled model"
   ]
  },
  {
   "cell_type": "code",
   "execution_count": 7,
   "metadata": {
    "ExecuteTime": {
     "end_time": "2021-07-05T18:20:34.966499Z",
     "start_time": "2021-07-05T18:20:34.714403Z"
    }
   },
   "outputs": [
    {
     "data": {
      "text/plain": [
       "['../../../RF_model.pkl']"
      ]
     },
     "execution_count": 7,
     "metadata": {},
     "output_type": "execute_result"
    }
   ],
   "source": [
    "joblib.dump(cv.best_estimator_, '../../../RF_model.pkl')"
   ]
  }
 ],
 "metadata": {
  "kernelspec": {
   "display_name": "Python 3",
   "language": "python",
   "name": "python3"
  },
  "language_info": {
   "codemirror_mode": {
    "name": "ipython",
    "version": 3
   },
   "file_extension": ".py",
   "mimetype": "text/x-python",
   "name": "python",
   "nbconvert_exporter": "python",
   "pygments_lexer": "ipython3",
   "version": "3.8.3"
  },
  "toc": {
   "base_numbering": 1,
   "nav_menu": {},
   "number_sections": true,
   "sideBar": true,
   "skip_h1_title": false,
   "title_cell": "Table of Contents",
   "title_sidebar": "Contents",
   "toc_cell": false,
   "toc_position": {},
   "toc_section_display": true,
   "toc_window_display": false
  },
  "varInspector": {
   "cols": {
    "lenName": 16,
    "lenType": 16,
    "lenVar": 40
   },
   "kernels_config": {
    "python": {
     "delete_cmd_postfix": "",
     "delete_cmd_prefix": "del ",
     "library": "var_list.py",
     "varRefreshCmd": "print(var_dic_list())"
    },
    "r": {
     "delete_cmd_postfix": ") ",
     "delete_cmd_prefix": "rm(",
     "library": "var_list.r",
     "varRefreshCmd": "cat(var_dic_list()) "
    }
   },
   "types_to_exclude": [
    "module",
    "function",
    "builtin_function_or_method",
    "instance",
    "_Feature"
   ],
   "window_display": false
  }
 },
 "nbformat": 4,
 "nbformat_minor": 2
}
